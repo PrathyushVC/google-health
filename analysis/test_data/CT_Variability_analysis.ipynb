{
 "cells": [
  {
   "cell_type": "code",
   "execution_count": 19,
   "metadata": {},
   "outputs": [
    {
     "name": "stdout",
     "output_type": "stream",
     "text": [
      "Requirement already satisfied: scipy in d:\\google-health\\.venv\\lib\\site-packages (1.14.1)\n",
      "Requirement already satisfied: numpy<2.3,>=1.23.5 in d:\\google-health\\.venv\\lib\\site-packages (from scipy) (2.1.1)\n",
      "Note: you may need to restart the kernel to use updated packages.\n",
      "Requirement already satisfied: h5py in d:\\google-health\\.venv\\lib\\site-packages (3.11.0)Note: you may need to restart the kernel to use updated packages.\n",
      "\n",
      "Requirement already satisfied: numpy>=1.17.3 in d:\\google-health\\.venv\\lib\\site-packages (from h5py) (2.1.1)\n",
      "Note: you may need to restart the kernel to use updated packages.\n"
     ]
    },
    {
     "name": "stderr",
     "output_type": "stream",
     "text": [
      "ERROR: Could not find a version that satisfies the requirement requirements (from versions: none)\n",
      "ERROR: No matching distribution found for requirements\n"
     ]
    },
    {
     "name": "stdout",
     "output_type": "stream",
     "text": [
      "Collecting pandas\n",
      "  Using cached pandas-2.2.2-cp311-cp311-win_amd64.whl.metadata (19 kB)\n",
      "Requirement already satisfied: numpy>=1.23.2 in d:\\google-health\\.venv\\lib\\site-packages (from pandas) (2.1.1)\n",
      "Requirement already satisfied: python-dateutil>=2.8.2 in d:\\google-health\\.venv\\lib\\site-packages (from pandas) (2.9.0.post0)\n",
      "Collecting pytz>=2020.1 (from pandas)\n",
      "  Using cached pytz-2024.1-py2.py3-none-any.whl.metadata (22 kB)\n",
      "Collecting tzdata>=2022.7 (from pandas)\n",
      "  Using cached tzdata-2024.1-py2.py3-none-any.whl.metadata (1.4 kB)\n",
      "Requirement already satisfied: six>=1.5 in d:\\google-health\\.venv\\lib\\site-packages (from python-dateutil>=2.8.2->pandas) (1.16.0)\n",
      "Using cached pandas-2.2.2-cp311-cp311-win_amd64.whl (11.6 MB)\n",
      "Using cached pytz-2024.1-py2.py3-none-any.whl (505 kB)\n",
      "Using cached tzdata-2024.1-py2.py3-none-any.whl (345 kB)\n",
      "Installing collected packages: pytz, tzdata, pandas\n",
      "Successfully installed pandas-2.2.2 pytz-2024.1 tzdata-2024.1\n",
      "Note: you may need to restart the kernel to use updated packages.\n"
     ]
    }
   ],
   "source": [
    "%pip install scipy\n",
    "%pip install h5py\n",
    "%pip install pandas\n",
    "\n",
    "\n"
   ]
  },
  {
   "cell_type": "code",
   "execution_count": 57,
   "metadata": {},
   "outputs": [],
   "source": [
    "import scipy\n",
    "import h5py\n",
    "import pandas as pd\n",
    "import roc"
   ]
  },
  {
   "cell_type": "code",
   "execution_count": 69,
   "metadata": {},
   "outputs": [
    {
     "name": "stdout",
     "output_type": "stream",
     "text": [
      "<bound method NDFrame.head of     Labels  PatNums\n",
      "0        0        1\n",
      "1        0        2\n",
      "2        0        3\n",
      "3        0        4\n",
      "4        1        5\n",
      "..     ...      ...\n",
      "69       1       70\n",
      "70       1       71\n",
      "71       1       72\n",
      "72       1       73\n",
      "73       1       74\n",
      "\n",
      "[74 rows x 2 columns]>\n"
     ]
    }
   ],
   "source": [
    "#Running Delong test on the data for the CT Variability Data\n",
    "\n",
    "# 3 datasets to load in at three location\n",
    "mat_file_FD=r\"C:\\Users\\chirr\\Downloads\\AUC_results\\1.Experiment_1\\5.FP5_ALL_pruning\\CT_TI_3Dresampled_grp2_FD_validation_10_wilcoxon_ALL_Randomforest.mat\"\n",
    "mat_file_HD=r\"C:\\Users\\chirr\\Downloads\\AUC_results\\2.Experiment_2\\5.FP5_ALL_pruning_HD\\CT_TI_3Dresampled_grp2_HD_validation_10_mrmr_ALL_Randomforest.mat\"\n",
    "mat_file_S4=r\"C:\\Users\\chirr\\Downloads\\AUC_results\\2.Experiment_2\\5.FP5_ALL_pruning_S4\\CT_TI_3Dresampled_grp2_S4_validation_10_mrmr_ALL_Randomforest.mat\"\n",
    "df=pd.read_csv(r'..\\CT_grp2_labels.csv')\n",
    "print(df.head)\n",
    "\n"
   ]
  },
  {
   "cell_type": "code",
   "execution_count": 42,
   "metadata": {},
   "outputs": [],
   "source": [
    "import numpy as np\n",
    "def print_struct(struct, indent=0):\n",
    "    # Iterate over the fields of the struct\n",
    "    for key in struct.dtype.names:\n",
    "        value = struct[key]\n",
    "        print(' ' * indent + f'{key}:', end=' ')\n",
    "        if isinstance(value, np.ndarray):\n",
    "            if value.ndim == 0:\n",
    "                print(value.item())\n",
    "            elif value.ndim == 1:\n",
    "                print(value)\n",
    "            elif value.ndim == 2:\n",
    "                print(value)\n",
    "            else:\n",
    "                print(\"Array with shape\", value.shape)\n",
    "        elif isinstance(value, dict):\n",
    "            print()\n",
    "            print_struct(value, indent + 4)\n",
    "        else:\n",
    "            print(value)"
   ]
  },
  {
   "cell_type": "code",
   "execution_count": 62,
   "metadata": {},
   "outputs": [],
   "source": [
    "def mat_to_stats(mat_data,training,labels):\n",
    "    '''\n",
    "      Returns:\n",
    "      A dictionary of comparisons each containing a\n",
    "        A named tuple with fields:\n",
    "      effect: The estimated difference in the AUC-ROC between the\n",
    "        two scores. A positive value means that y_score_2 is more discriminating\n",
    "        than y_score_1.\n",
    "      ci: A (lower, upper) confidence interval for the true difference in AUCs.\n",
    "      statistic: The value of the z-statistic.\n",
    "      pvalue: The p-value associated with the test. Unless a non-inferiority\n",
    "        is specified, this is two-tailed.\n",
    "        '''\n",
    "\n",
    "    predictions_X_FD = mat_data['stats1']['prediction']\n",
    "    predictions_X_HD = mat_data['stats2']['prediction']\n",
    "    predictions_X_S4 = mat_data['stats3']['prediction']\n",
    "    results={}\n",
    "    results['Training']=str(training)\n",
    "    results['FDvsHD']=roc.delong_test(y_true=labels.to_numpy(),y_score_1=predictions_X_FD[0][0],y_score_2=predictions_X_HD[0][0])\n",
    "    results['FDvsS4']=roc.delong_test(y_true=labels.to_numpy(),y_score_1=predictions_X_FD[0][0],y_score_2=predictions_X_S4[0][0])\n",
    "    results['HDvsS4']=roc.delong_test(y_true=labels.to_numpy(),y_score_1=predictions_X_HD[0][0],y_score_2=predictions_X_S4[0][0])\n",
    "\n",
    "    return results\n",
    "\n"
   ]
  },
  {
   "cell_type": "code",
   "execution_count": 70,
   "metadata": {},
   "outputs": [
    {
     "data": {
      "text/plain": [
       "TestResult(effect=np.float64(-0.09685672514619903), ci=(np.float64(-0.1665525586062052), np.float64(-0.027160891686192873)), statistic=np.float64(-2.723773911907937), pvalue=np.float64(0.00645406717463634))"
      ]
     },
     "execution_count": 70,
     "metadata": {},
     "output_type": "execute_result"
    }
   ],
   "source": [
    "FD_trained_data=scipy.io.loadmat(mat_file_FD)\n",
    "HD_trained_data=scipy.io.loadmat(mat_file_HD)\n",
    "S4_trained_data=scipy.io.loadmat(mat_file_S4)\n",
    "labels=df['Labels']\n",
    "#print(FD_trained_data.keys())\n",
    "#print(FD_trained_data['stats1'])\n",
    "#print_struct(FD_trained_data['stats1'])\n",
    "#print(\"Fields in stats1:\", FD_trained_data['stats1'].dtype.names)\n",
    "#prediction_trainingset_testingset\n",
    "predictions_FD_FD = FD_trained_data['stats1']['prediction']\n",
    "predictions_FD_HD = FD_trained_data['stats2']['prediction']\n",
    "predictions_FD_S4 = FD_trained_data['stats3']['prediction']\n",
    "\n",
    "roc.delong_test(y_true=labels.to_numpy(),y_score_1=predictions_FD_FD[0][0],y_score_2=predictions_FD_S4[0][0])\n",
    "\n",
    "#key stats1 results on Fulldose\n",
    "#key stats2 results on halfdose\n",
    "#key stats3 results on Safire4\n",
    "#Regardless of the source dataset\n",
    "#Each row is a run for some reason"
   ]
  },
  {
   "cell_type": "code",
   "execution_count": 71,
   "metadata": {},
   "outputs": [
    {
     "name": "stdout",
     "output_type": "stream",
     "text": [
      "Full Dose\n",
      "TestResult(effect=np.float64(-0.05336257309941528), ci=(np.float64(-0.12228287150906998), np.float64(0.015557725310239426)), statistic=np.float64(-1.5175314647591331), pvalue=np.float64(0.12913255558473427))\n",
      "TestResult(effect=np.float64(-0.09685672514619903), ci=(np.float64(-0.1665525586062052), np.float64(-0.027160891686192873)), statistic=np.float64(-2.723773911907937), pvalue=np.float64(0.00645406717463634))\n",
      "TestResult(effect=np.float64(-0.04349415204678375), ci=(np.float64(-0.10456827251120737), np.float64(0.01757996841763986)), statistic=np.float64(-1.3957953205312648), pvalue=np.float64(0.16277613993848405))\n"
     ]
    }
   ],
   "source": [
    "results=mat_to_stats(FD_trained_data,'Full Dose',labels)\n",
    "print(results['Training'])\n",
    "print(results['FDvsHD'])\n",
    "print(results['FDvsS4'])\n",
    "print(results['HDvsS4'])\n",
    "\n"
   ]
  },
  {
   "cell_type": "code",
   "execution_count": 72,
   "metadata": {},
   "outputs": [
    {
     "name": "stdout",
     "output_type": "stream",
     "text": [
      "Half Dose\n",
      "TestResult(effect=np.float64(-0.062134502923976376), ci=(np.float64(-0.13511241747753372), np.float64(0.010843411629580982)), statistic=np.float64(-1.6687430529262235), pvalue=np.float64(0.09516831289582134))\n",
      "TestResult(effect=np.float64(-0.06140350877192968), ci=(np.float64(-0.12678379370679138), np.float64(0.00397677616293203)), statistic=np.float64(-1.8407485656765594), pvalue=np.float64(0.06565841333892643))\n",
      "TestResult(effect=np.float64(0.0007309941520466934), ci=(np.float64(-0.07320873610955321), np.float64(0.0746707244136466)), statistic=np.float64(0.01937689258335028), pvalue=np.float64(0.9845404439951647))\n"
     ]
    }
   ],
   "source": [
    "results=mat_to_stats(HD_trained_data,'Half Dose',labels)\n",
    "print(results['Training'])\n",
    "print(results['FDvsHD'])\n",
    "print(results['FDvsS4'])\n",
    "print(results['HDvsS4'])"
   ]
  },
  {
   "cell_type": "code",
   "execution_count": 73,
   "metadata": {},
   "outputs": [
    {
     "name": "stdout",
     "output_type": "stream",
     "text": [
      " Safire 4\n",
      "TestResult(effect=np.float64(-0.08589181286549707), ci=(np.float64(-0.14277368458112216), np.float64(-0.029009941149871973)), statistic=np.float64(-2.9595520454188047), pvalue=np.float64(0.003080866574389241))\n",
      "TestResult(effect=np.float64(-0.03252923976608191), ci=(np.float64(-0.09022757440099814), np.float64(0.025169094868834327)), statistic=np.float64(-1.1049909635937143), pvalue=np.float64(0.26916350470579264))\n",
      "TestResult(effect=np.float64(0.05336257309941517), ci=(np.float64(-0.0060541461765114685), np.float64(0.1127792923753418)), statistic=np.float64(1.76025742706422), pvalue=np.float64(0.07836416900205345))\n"
     ]
    }
   ],
   "source": [
    "results=mat_to_stats(S4_trained_data,' Safire 4',labels)\n",
    "print(results['Training'])\n",
    "print(results['FDvsHD'])\n",
    "print(results['FDvsS4'])\n",
    "print(results['HDvsS4'])"
   ]
  },
  {
   "cell_type": "code",
   "execution_count": null,
   "metadata": {},
   "outputs": [],
   "source": []
  }
 ],
 "metadata": {
  "kernelspec": {
   "display_name": "Python 3",
   "language": "python",
   "name": "python3"
  },
  "language_info": {
   "codemirror_mode": {
    "name": "ipython",
    "version": 3
   },
   "file_extension": ".py",
   "mimetype": "text/x-python",
   "name": "python",
   "nbconvert_exporter": "python",
   "pygments_lexer": "ipython3",
   "version": "3.11.9"
  }
 },
 "nbformat": 4,
 "nbformat_minor": 2
}
